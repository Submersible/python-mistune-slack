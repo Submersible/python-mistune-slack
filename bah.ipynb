{
 "cells": [
  {
   "cell_type": "code",
   "execution_count": 5,
   "id": "f177a0c0",
   "metadata": {},
   "outputs": [],
   "source": [
    "wee = \"\"\"\n",
    "\n",
    "python\n",
    "html\n",
    "shell\n",
    "bash\n",
    "sql\n",
    "bigquery\n",
    "javascript\n",
    "typescript\n",
    "scss\n",
    "less\n",
    "sass\n",
    "stylus\n",
    "postcss\n",
    "\n",
    "\n",
    "javascript\n",
    "js\n",
    "python\n",
    "py\n",
    "html\n",
    "css\n",
    "jsonl\n",
    "jsonc\n",
    "csv\n",
    "json\n",
    "java\n",
    "bash\n",
    "sh\n",
    "shell\n",
    "sql\n",
    "csharp\n",
    "cs\n",
    "cpp\n",
    "c++\n",
    "typescript\n",
    "ts\n",
    "php\n",
    "xml\n",
    "yaml\n",
    "yml\n",
    "ruby\n",
    "rb\n",
    "go\n",
    "golang\n",
    "c\n",
    "markdown\n",
    "md\n",
    "swift\n",
    "kotlin\n",
    "rust\n",
    "powershell\n",
    "ps\n",
    "ps1\n",
    "scala\n",
    "perl\n",
    "pl\n",
    "lua\n",
    "r\n",
    "objectivec\n",
    "objc\n",
    "dockerfile\n",
    "docker\n",
    "makefile\n",
    "\"\"\""
   ]
  },
  {
   "cell_type": "code",
   "execution_count": 6,
   "id": "831d1117",
   "metadata": {},
   "outputs": [
    {
     "name": "stdout",
     "output_type": "stream",
     "text": [
      "bash|bigquery|c|c++|cpp|cs|csharp|css|csv|docker|dockerfile|go|golang|html|java|javascript|js|json|jsonc|jsonl|kotlin|less|lua|makefile|markdown|md|objc|objectivec|perl|php|pl|postcss|powershell|ps|ps1|py|python|r|rb|ruby|rust|sass|scala|scss|sh|shell|sql|stylus|swift|ts|typescript|xml|yaml|yml\n"
     ]
    }
   ],
   "source": [
    "print(\"|\".join(sorted([x for x in set(wee.splitlines()) if x])))"
   ]
  },
  {
   "cell_type": "code",
   "execution_count": null,
   "id": "54986776",
   "metadata": {},
   "outputs": [],
   "source": []
  }
 ],
 "metadata": {
  "kernelspec": {
   "display_name": ".venv",
   "language": "python",
   "name": "python3"
  },
  "language_info": {
   "codemirror_mode": {
    "name": "ipython",
    "version": 3
   },
   "file_extension": ".py",
   "mimetype": "text/x-python",
   "name": "python",
   "nbconvert_exporter": "python",
   "pygments_lexer": "ipython3",
   "version": "3.11.11"
  }
 },
 "nbformat": 4,
 "nbformat_minor": 5
}
